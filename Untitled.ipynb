{
 "cells": [
  {
   "cell_type": "markdown",
   "metadata": {},
   "source": [
    "<h1>Diseño de la interfaz Grafica</h1>"
   ]
  },
  {
   "cell_type": "code",
   "execution_count": 1,
   "metadata": {},
   "outputs": [],
   "source": [
    "import tkinter"
   ]
  },
  {
   "cell_type": "markdown",
   "metadata": {},
   "source": [
    "<h2>1. Métodos básicos</h2>"
   ]
  },
  {
   "cell_type": "code",
   "execution_count": 100,
   "metadata": {},
   "outputs": [],
   "source": [
    "ventana = tkinter.Tk()\n",
    "ventana.geometry(\"900x800\")\n",
    "\n",
    "header = tkinter.Label(ventana, text = \"Bienvenido a Manager\")\n",
    "header.pack()\n",
    "\n",
    "etiqueta2 = tkinter.Label(ventana, text = \"Todos lo derechos reservados\", background = 'grey')\n",
    "etiqueta2.pack(side = tkinter.BOTTOM, fill = tkinter.X)\n",
    "    \n",
    "\n",
    "\n",
    "inputbox = tkinter.Entry(ventana, font = \"Helvetica 50\")\n",
    "inputbox.pack()\n",
    "\n",
    "salida = tkinter.Label(ventana)\n",
    "salida.pack()\n",
    "\n",
    "def imprimir():\n",
    "    \n",
    "    texto = inputbox.get()\n",
    "    salida['text'] = texto\n",
    "\n",
    "    \n",
    "print_btn = tkinter.Button(ventana, text = \"Login\", padx = 5, pady = 5, command = imprimir)\n",
    "print_btn.pack()\n",
    "\n",
    "ventana.mainloop()"
   ]
  },
  {
   "cell_type": "markdown",
   "metadata": {},
   "source": [
    "<h2>2. Metodo GRID</h2>"
   ]
  },
  {
   "cell_type": "code",
   "execution_count": 6,
   "metadata": {},
   "outputs": [],
   "source": [
    "import tkinter\n",
    "\n",
    "ventana = tkinter.Tk()\n",
    "ventana.geometry(\"900x800\")\n",
    "\n",
    "#header = tkinter.Label(ventana, text = \"Bienvenido a Manager\")\n",
    "#header.pack()\n",
    "\n",
    "btn1 = tkinter.Button(ventana, text = \"Login\", width = 10, height = 5)\n",
    "btn2 = tkinter.Button(ventana, text = \"Login\", width = 10, height = 5)\n",
    "btn3 = tkinter.Button(ventana, text = \"Login\", width = 10, height = 5)\n",
    "\n",
    "btn1.grid(row = 5, column = 5, padx = 10, pady= 10)\n",
    "btn2.grid(row = 5, column = 6, padx = 10, pady= 10)\n",
    "btn3.grid(row = 5, column = 7, padx = 10, pady= 10)\n",
    "\n",
    "frame = tkinter.LabelFrame(ventana , text = \"wenasa\")\n",
    "frame.grid(row = 10, column =10)\n",
    "\n",
    "ventana.mainloop()"
   ]
  },
  {
   "cell_type": "code",
   "execution_count": 21,
   "metadata": {},
   "outputs": [
    {
     "data": {
      "text/html": [
       "<div>\n",
       "<style scoped>\n",
       "    .dataframe tbody tr th:only-of-type {\n",
       "        vertical-align: middle;\n",
       "    }\n",
       "\n",
       "    .dataframe tbody tr th {\n",
       "        vertical-align: top;\n",
       "    }\n",
       "\n",
       "    .dataframe thead th {\n",
       "        text-align: right;\n",
       "    }\n",
       "</style>\n",
       "<table border=\"1\" class=\"dataframe\">\n",
       "  <thead>\n",
       "    <tr style=\"text-align: right;\">\n",
       "      <th></th>\n",
       "      <th>name</th>\n",
       "      <th>seq</th>\n",
       "    </tr>\n",
       "  </thead>\n",
       "  <tbody>\n",
       "  </tbody>\n",
       "</table>\n",
       "</div>"
      ],
      "text/plain": [
       "Empty DataFrame\n",
       "Columns: [name, seq]\n",
       "Index: []"
      ]
     },
     "metadata": {},
     "output_type": "display_data"
    },
    {
     "data": {
      "text/html": [
       "<div>\n",
       "<style scoped>\n",
       "    .dataframe tbody tr th:only-of-type {\n",
       "        vertical-align: middle;\n",
       "    }\n",
       "\n",
       "    .dataframe tbody tr th {\n",
       "        vertical-align: top;\n",
       "    }\n",
       "\n",
       "    .dataframe thead th {\n",
       "        text-align: right;\n",
       "    }\n",
       "</style>\n",
       "<table border=\"1\" class=\"dataframe\">\n",
       "  <thead>\n",
       "    <tr style=\"text-align: right;\">\n",
       "      <th></th>\n",
       "      <th>index</th>\n",
       "      <th>name</th>\n",
       "      <th>seq</th>\n",
       "    </tr>\n",
       "  </thead>\n",
       "  <tbody>\n",
       "  </tbody>\n",
       "</table>\n",
       "</div>"
      ],
      "text/plain": [
       "Empty DataFrame\n",
       "Columns: [index, name, seq]\n",
       "Index: []"
      ]
     },
     "metadata": {},
     "output_type": "display_data"
    }
   ],
   "source": [
    "import sqlite3\n",
    "import pandas as pd\n",
    "from IPython.display import display\n",
    "\n",
    "engine = sqlite3.connect('/Users/danielbeffermann/Desktop/tkinter/CRUD/database.db')\n",
    "\n",
    "df = pd.read_sql_query(\"SELECT * FROM sqlite_sequence\", engine)\n",
    "\n",
    "df_ = pd.read_sql_query(\"SELECT * FROM product\", engine)\n",
    "\n",
    "\n",
    "display(df)\n",
    "display(df_)"
   ]
  },
  {
   "cell_type": "code",
   "execution_count": 23,
   "metadata": {},
   "outputs": [],
   "source": [
    "import pandas as pd\n",
    "df = pd.read_clipboard()"
   ]
  },
  {
   "cell_type": "code",
   "execution_count": 24,
   "metadata": {},
   "outputs": [],
   "source": [
    "df.to_sql('product', engine, if_exists = 'replace')"
   ]
  },
  {
   "cell_type": "code",
   "execution_count": 22,
   "metadata": {},
   "outputs": [
    {
     "data": {
      "text/html": [
       "<div>\n",
       "<style scoped>\n",
       "    .dataframe tbody tr th:only-of-type {\n",
       "        vertical-align: middle;\n",
       "    }\n",
       "\n",
       "    .dataframe tbody tr th {\n",
       "        vertical-align: top;\n",
       "    }\n",
       "\n",
       "    .dataframe thead th {\n",
       "        text-align: right;\n",
       "    }\n",
       "</style>\n",
       "<table border=\"1\" class=\"dataframe\">\n",
       "  <thead>\n",
       "    <tr style=\"text-align: right;\">\n",
       "      <th></th>\n",
       "      <th>name</th>\n",
       "      <th>seq</th>\n",
       "    </tr>\n",
       "  </thead>\n",
       "  <tbody>\n",
       "  </tbody>\n",
       "</table>\n",
       "</div>"
      ],
      "text/plain": [
       "Empty DataFrame\n",
       "Columns: [name, seq]\n",
       "Index: []"
      ]
     },
     "execution_count": 22,
     "metadata": {},
     "output_type": "execute_result"
    }
   ],
   "source": []
  },
  {
   "cell_type": "code",
   "execution_count": null,
   "metadata": {},
   "outputs": [],
   "source": []
  }
 ],
 "metadata": {
  "kernelspec": {
   "display_name": "Python 3",
   "language": "python",
   "name": "python3"
  },
  "language_info": {
   "codemirror_mode": {
    "name": "ipython",
    "version": 3
   },
   "file_extension": ".py",
   "mimetype": "text/x-python",
   "name": "python",
   "nbconvert_exporter": "python",
   "pygments_lexer": "ipython3",
   "version": "3.7.3"
  }
 },
 "nbformat": 4,
 "nbformat_minor": 4
}
